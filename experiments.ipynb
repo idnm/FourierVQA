{
 "cells": [
  {
   "cell_type": "markdown",
   "id": "4828b130-75b5-4b5e-bbad-415bba2cb6b8",
   "metadata": {
    "tags": []
   },
   "source": [
    "# Imports"
   ]
  },
  {
   "cell_type": "code",
   "execution_count": 49,
   "id": "383c7886-499d-43c1-8353-911091943f23",
   "metadata": {
    "tags": []
   },
   "outputs": [],
   "source": [
    "from qiskit import *\n",
    "from qiskit.circuit import Parameter, ParameterExpression, Gate, Qubit\n",
    "from qiskit.circuit.library import XGate, YGate, ZGate, IGate, CPhaseGate\n",
    "from qiskit.quantum_info import Operator, Statevector, random_clifford, Clifford, Pauli, DensityMatrix\n",
    "from qiskit.quantum_info import SparsePauliOp, PauliList, random_statevector, StabilizerTable\n",
    "from qiskit.quantum_info import pauli_basis, StabilizerState, DensityMatrix, random_density_matrix, random_unitary\n",
    "\n",
    "import numpy as np\n",
    "from functools import reduce\n",
    "from itertools import product\n",
    "# from cpflow.trigonometric_utils import min_angle\n",
    "\n",
    "# from cpflow import *\n",
    "# from cpflow.topology import *\n",
    "import matplotlib.pyplot as plt\n",
    "from mynimize import *\n",
    "import jax.numpy as jnp\n",
    "from collections import namedtuple\n",
    "\n",
    "from wave_expansion import *\n",
    "from experiments_utils import *\n",
    "from tests.test_wave_expansion import *\n",
    "from jax_utils import jax_tensor, jax_loss, jax_fourier_mode\n",
    "\n",
    "from jax import random, grad\n",
    "import cProfile\n",
    "from functools import partial\n",
    "from random import sample\n",
    "\n",
    "# %%prun -s cumulative -l 20"
   ]
  },
  {
   "cell_type": "markdown",
   "id": "8ab331f8-0856-4159-a5cb-1308b447e43c",
   "metadata": {
    "tags": [],
    "toc-hr-collapsed": true
   },
   "source": [
    "# Jax loss unitary bug"
   ]
  },
  {
   "cell_type": "markdown",
   "id": "b2342a64-3881-4b6c-85a0-4542f23901ca",
   "metadata": {},
   "source": [
    "# Are there traps at order 2?"
   ]
  },
  {
   "cell_type": "markdown",
   "id": "ab930d85-a936-45ff-b269-9a84d28e1fa6",
   "metadata": {},
   "source": [
    "Random pauli hamiltonian."
   ]
  },
  {
   "cell_type": "markdown",
   "id": "268c55a2-4e81-4e28-969b-370d9abc39d2",
   "metadata": {},
   "source": [
    "A trapping loss landscape with not too demanding resources."
   ]
  },
  {
   "cell_type": "code",
   "execution_count": 18,
   "id": "37a68609-d12f-463b-8045-6b6b9907ad5b",
   "metadata": {},
   "outputs": [
    {
     "name": "stdout",
     "output_type": "stream",
     "text": [
      "CPU times: user 38.7 s, sys: 108 ms, total: 38.8 s\n",
      "Wall time: 38.7 s\n"
     ]
    },
    {
     "data": {
      "image/png": "[encoded data removed]",
      "text/plain": [
       "<Figure size 640x480 with 1 Axes>"
      ]
     },
     "metadata": {},
     "output_type": "display_data"
    }
   ],
   "source": [
    "%%time\n",
    "\n",
    "num_qubits = 5\n",
    "depth = 0\n",
    "num_pauli_terms = 40\n",
    "\n",
    "e = Experiment(num_qubits, depth, num_pauli_terms)\n",
    "opt_options = OptOptions(learning_rate=0.01, num_iterations=5000)\n",
    "res = e.run(num_samples=500, opt_options=opt_options)"
   ]
  },
  {
   "cell_type": "code",
   "execution_count": 31,
   "id": "ad3fb2f6-91e2-47f9-8615-4c0e16e0e10d",
   "metadata": {},
   "outputs": [
    {
     "name": "stdout",
     "output_type": "stream",
     "text": [
      "CPU times: user 18.6 s, sys: 7.67 ms, total: 18.6 s\n",
      "Wall time: 18.6 s\n"
     ]
    }
   ],
   "source": [
    "%%time\n",
    "\n",
    "vqa = e.vqa\n",
    "vqa.fourier_expansion(up_to_order=2)\n",
    "f0 = jax_fourier_mode(vqa.fourier_modes[0])\n",
    "f1 = jax_fourier_mode(vqa.fourier_modes[1])\n",
    "f2 = jax_fourier_mode(vqa.fourier_modes[2])\n",
    "\n",
    "proxy_loss = lambda x: f0(x)+f1(x)+f2(x)"
   ]
  },
  {
   "cell_type": "code",
   "execution_count": 47,
   "id": "624f02b3-5744-4adf-b9a2-a59859a0e387",
   "metadata": {},
   "outputs": [
    {
     "data": {
      "text/plain": [
       "DeviceArray([0.03530179+0.j], dtype=complex64)"
      ]
     },
     "execution_count": 47,
     "metadata": {},
     "output_type": "execute_result"
    }
   ],
   "source": [
    "vmap(jit(f2))(jnp.array([jnp.arange(vqa.circuit.num_parameters)]))"
   ]
  },
  {
   "cell_type": "code",
   "execution_count": 61,
   "id": "fc9f69a1-de09-4276-b31e-821892cdb2b4",
   "metadata": {},
   "outputs": [
    {
     "data": {
      "text/plain": [
       "[(0.12241709499237831+0j), 0j, 0j, 0j]"
      ]
     },
     "execution_count": 61,
     "metadata": {},
     "output_type": "execute_result"
    }
   ],
   "source": [
    "vqa.fourier_modes[2].poly_dict[(2, 4)].coefficients"
   ]
  },
  {
   "cell_type": "code",
   "execution_count": 42,
   "id": "d361bb04-7455-4766-93a1-c2d4c0c94b00",
   "metadata": {},
   "outputs": [
    {
     "ename": "TracerIntegerConversionError",
     "evalue": "The __index__() method was called on the JAX Tracer object Traced<ShapedArray(float32[0])>with<DynamicJaxprTrace(level=2/1)>\nSee https://jax.readthedocs.io/en/latest/errors.html#jax.errors.TracerIntegerConversionError",
     "output_type": "error",
     "traceback": [
      "\u001b[0;31m---------------------------------------------------------------------------\u001b[0m",
      "\u001b[0;31mTracerIntegerConversionError\u001b[0m              Traceback (most recent call last)",
      "Cell \u001b[0;32mIn [42], line 3\u001b[0m\n\u001b[1;32m      1\u001b[0m num_samples \u001b[38;5;241m=\u001b[39m \u001b[38;5;241m500\u001b[39m\n\u001b[1;32m      2\u001b[0m angles_batch \u001b[38;5;241m=\u001b[39m Experiment\u001b[38;5;241m.\u001b[39mrandom_parameter_batch(num_samples, vqa\u001b[38;5;241m.\u001b[39mcircuit\u001b[38;5;241m.\u001b[39mnum_parameters)\n\u001b[0;32m----> 3\u001b[0m proxy_res \u001b[38;5;241m=\u001b[39m \u001b[43mmynimize\u001b[49m\u001b[43m(\u001b[49m\u001b[43mf2\u001b[49m\u001b[43m,\u001b[49m\u001b[43m \u001b[49m\u001b[43mangles_batch\u001b[49m\u001b[43m,\u001b[49m\u001b[43m \u001b[49m\u001b[43mopt_options\u001b[49m\u001b[43m)\u001b[49m\n\u001b[1;32m      4\u001b[0m plt\u001b[38;5;241m.\u001b[39mhist(np\u001b[38;5;241m.\u001b[39marray(proxy_res\u001b[38;5;241m.\u001b[39mall_best_losses))\n",
      "File \u001b[0;32m~/coding/mynimize/mynimize.py:39\u001b[0m, in \u001b[0;36mmynimize\u001b[0;34m(loss, initial_params_batch, opt_options)\u001b[0m\n\u001b[1;32m     36\u001b[0m     \u001b[38;5;28;01mreturn\u001b[39;00m single_mynimize(loss_and_grad_glued, initial_params_glued, opt_options)\n\u001b[1;32m     38\u001b[0m initial_params_glued_batch \u001b[38;5;241m=\u001b[39m jnp\u001b[38;5;241m.\u001b[39marray([glue_params(params) \u001b[38;5;28;01mfor\u001b[39;00m params \u001b[38;5;129;01min\u001b[39;00m initial_params_batch])\n\u001b[0;32m---> 39\u001b[0m params_glued_histories, loss_histories \u001b[38;5;241m=\u001b[39m \u001b[43mvmap\u001b[49m\u001b[43m(\u001b[49m\u001b[43msingle_minimize\u001b[49m\u001b[43m)\u001b[49m\u001b[43m(\u001b[49m\u001b[43minitial_params_glued_batch\u001b[49m\u001b[43m)\u001b[49m\n\u001b[1;32m     41\u001b[0m \u001b[38;5;66;03m# print('done minimizing')\u001b[39;00m\n\u001b[1;32m     42\u001b[0m results \u001b[38;5;241m=\u001b[39m [[ph, lh] \u001b[38;5;28;01mfor\u001b[39;00m ph, lh \u001b[38;5;129;01min\u001b[39;00m \u001b[38;5;28mzip\u001b[39m(params_glued_histories, loss_histories)]  \u001b[38;5;66;03m# This step takes unreasonably long\u001b[39;00m\n",
      "    \u001b[0;31m[... skipping hidden 20 frame]\u001b[0m\n",
      "File \u001b[0;32m~/coding/mynimize/mynimize.py:36\u001b[0m, in \u001b[0;36mmynimize.<locals>.single_minimize\u001b[0;34m(initial_params_glued)\u001b[0m\n\u001b[1;32m     34\u001b[0m \u001b[38;5;129m@jit\u001b[39m\n\u001b[1;32m     35\u001b[0m \u001b[38;5;28;01mdef\u001b[39;00m \u001b[38;5;21msingle_minimize\u001b[39m(initial_params_glued):\n\u001b[0;32m---> 36\u001b[0m     \u001b[38;5;28;01mreturn\u001b[39;00m \u001b[43msingle_mynimize\u001b[49m\u001b[43m(\u001b[49m\u001b[43mloss_and_grad_glued\u001b[49m\u001b[43m,\u001b[49m\u001b[43m \u001b[49m\u001b[43minitial_params_glued\u001b[49m\u001b[43m,\u001b[49m\u001b[43m \u001b[49m\u001b[43mopt_options\u001b[49m\u001b[43m)\u001b[49m\n",
      "File \u001b[0;32m~/coding/mynimize/mynimize.py:72\u001b[0m, in \u001b[0;36msingle_mynimize\u001b[0;34m(loss_and_grad, initial_params, opt_options)\u001b[0m\n\u001b[1;32m     69\u001b[0m     params_history \u001b[38;5;241m=\u001b[39m jnp\u001b[38;5;241m.\u001b[39mzeros((opt_options\u001b[38;5;241m.\u001b[39mnum_iterations, \u001b[38;5;28mlen\u001b[39m(initial_params)))\u001b[38;5;241m.\u001b[39mat[\u001b[38;5;241m0\u001b[39m]\u001b[38;5;241m.\u001b[39mset(initial_params)\n\u001b[1;32m     70\u001b[0m     loss_history \u001b[38;5;241m=\u001b[39m jnp\u001b[38;5;241m.\u001b[39mzeros((opt_options\u001b[38;5;241m.\u001b[39mnum_iterations,))\n\u001b[0;32m---> 72\u001b[0m     params_history, loss_history, _ \u001b[38;5;241m=\u001b[39m \u001b[43mlax\u001b[49m\u001b[38;5;241;43m.\u001b[39;49m\u001b[43mfori_loop\u001b[49m\u001b[43m(\u001b[49m\n\u001b[1;32m     73\u001b[0m \u001b[43m        \u001b[49m\u001b[38;5;241;43m0\u001b[39;49m\u001b[43m,\u001b[49m\n\u001b[1;32m     74\u001b[0m \u001b[43m        \u001b[49m\u001b[43mopt_options\u001b[49m\u001b[38;5;241;43m.\u001b[39;49m\u001b[43mnum_iterations\u001b[49m\u001b[43m,\u001b[49m\n\u001b[1;32m     75\u001b[0m \u001b[43m        \u001b[49m\u001b[43miteration_with_history\u001b[49m\u001b[43m,\u001b[49m\n\u001b[1;32m     76\u001b[0m \u001b[43m        \u001b[49m\u001b[43m(\u001b[49m\u001b[43mparams_history\u001b[49m\u001b[43m,\u001b[49m\u001b[43m \u001b[49m\u001b[43mloss_history\u001b[49m\u001b[43m,\u001b[49m\u001b[43m \u001b[49m\u001b[43mopt_state\u001b[49m\u001b[43m)\u001b[49m\u001b[43m)\u001b[49m\n\u001b[1;32m     78\u001b[0m \u001b[38;5;28;01melse\u001b[39;00m:\n\u001b[1;32m     79\u001b[0m     initial_loss, _ \u001b[38;5;241m=\u001b[39m loss_and_grad(initial_params)\n",
      "    \u001b[0;31m[... skipping hidden 16 frame]\u001b[0m\n",
      "File \u001b[0;32m~/coding/mynimize/mynimize.py:54\u001b[0m, in \u001b[0;36msingle_mynimize.<locals>.iteration_with_history\u001b[0;34m(i, carry)\u001b[0m\n\u001b[1;32m     52\u001b[0m params_history, loss_history, opt_state \u001b[38;5;241m=\u001b[39m carry\n\u001b[1;32m     53\u001b[0m params \u001b[38;5;241m=\u001b[39m params_history[i]\n\u001b[0;32m---> 54\u001b[0m params, loss, opt_state \u001b[38;5;241m=\u001b[39m \u001b[43mupdate_step\u001b[49m\u001b[43m(\u001b[49m\u001b[43mloss_and_grad\u001b[49m\u001b[43m,\u001b[49m\u001b[43m \u001b[49m\u001b[43mopt\u001b[49m\u001b[43m,\u001b[49m\u001b[43m \u001b[49m\u001b[43mopt_state\u001b[49m\u001b[43m,\u001b[49m\u001b[43m \u001b[49m\u001b[43mparams\u001b[49m\u001b[43m)\u001b[49m\n\u001b[1;32m     55\u001b[0m params_history \u001b[38;5;241m=\u001b[39m params_history\u001b[38;5;241m.\u001b[39mat[i\u001b[38;5;241m+\u001b[39m\u001b[38;5;241m1\u001b[39m]\u001b[38;5;241m.\u001b[39mset(params)\n\u001b[1;32m     56\u001b[0m loss_history \u001b[38;5;241m=\u001b[39m loss_history\u001b[38;5;241m.\u001b[39mat[i]\u001b[38;5;241m.\u001b[39mset(loss)\n",
      "File \u001b[0;32m~/coding/mynimize/mynimize.py:93\u001b[0m, in \u001b[0;36mupdate_step\u001b[0;34m(loss_and_grad, opt, opt_state, params)\u001b[0m\n\u001b[1;32m     92\u001b[0m \u001b[38;5;28;01mdef\u001b[39;00m \u001b[38;5;21mupdate_step\u001b[39m(loss_and_grad, opt, opt_state, params):\n\u001b[0;32m---> 93\u001b[0m     loss, grads \u001b[38;5;241m=\u001b[39m \u001b[43mloss_and_grad\u001b[49m\u001b[43m(\u001b[49m\u001b[43mparams\u001b[49m\u001b[43m)\u001b[49m\n\u001b[1;32m     94\u001b[0m     updates, opt_state \u001b[38;5;241m=\u001b[39m opt\u001b[38;5;241m.\u001b[39mupdate(grads, opt_state)\n\u001b[1;32m     95\u001b[0m     params \u001b[38;5;241m=\u001b[39m optax\u001b[38;5;241m.\u001b[39mapply_updates(params, updates)\n",
      "    \u001b[0;31m[... skipping hidden 8 frame]\u001b[0m\n",
      "File \u001b[0;32m~/coding/mynimize/mynimize.py:31\u001b[0m, in \u001b[0;36mmynimize.<locals>.<lambda>\u001b[0;34m(params_glued)\u001b[0m\n\u001b[1;32m     28\u001b[0m params_sample \u001b[38;5;241m=\u001b[39m initial_params_batch[\u001b[38;5;241m0\u001b[39m]\n\u001b[1;32m     30\u001b[0m regloss \u001b[38;5;241m=\u001b[39m opt_options\u001b[38;5;241m.\u001b[39mregloss(loss)\n\u001b[0;32m---> 31\u001b[0m regloss_glued \u001b[38;5;241m=\u001b[39m \u001b[38;5;28;01mlambda\u001b[39;00m params_glued: \u001b[43mregloss\u001b[49m\u001b[43m(\u001b[49m\u001b[43munglue_params\u001b[49m\u001b[43m(\u001b[49m\u001b[43mparams_glued\u001b[49m\u001b[43m,\u001b[49m\u001b[43m \u001b[49m\u001b[43mparams_sample\u001b[49m\u001b[43m)\u001b[49m\u001b[43m)\u001b[49m\n\u001b[1;32m     32\u001b[0m loss_and_grad_glued \u001b[38;5;241m=\u001b[39m value_and_grad(regloss_glued)\n\u001b[1;32m     34\u001b[0m \u001b[38;5;129m@jit\u001b[39m\n\u001b[1;32m     35\u001b[0m \u001b[38;5;28;01mdef\u001b[39;00m \u001b[38;5;21msingle_minimize\u001b[39m(initial_params_glued):\n",
      "File \u001b[0;32m~/Dropbox/hep/Sheets/Quantum Computing/slow_waves_conjecture/jax_utils.py:122\u001b[0m, in \u001b[0;36mjax_fourier_mode.<locals>.f\u001b[0;34m(p)\u001b[0m\n\u001b[1;32m    121\u001b[0m \u001b[38;5;28;01mdef\u001b[39;00m \u001b[38;5;21mf\u001b[39m(p):\n\u001b[0;32m--> 122\u001b[0m     \u001b[38;5;28;01mreturn\u001b[39;00m (coefficients \u001b[38;5;241m*\u001b[39m \u001b[43mall_monomial_arrays\u001b[49m\u001b[43m(\u001b[49m\u001b[43mp\u001b[49m\u001b[43m,\u001b[49m\u001b[43m \u001b[49m\u001b[43morder\u001b[49m\u001b[43m)\u001b[49m)\u001b[38;5;241m.\u001b[39msum()\n",
      "File \u001b[0;32m~/Dropbox/hep/Sheets/Quantum Computing/slow_waves_conjecture/jax_utils.py:108\u001b[0m, in \u001b[0;36mall_monomial_arrays\u001b[0;34m(all_p, order)\u001b[0m\n\u001b[1;32m    106\u001b[0m num_parameters \u001b[38;5;241m=\u001b[39m \u001b[38;5;28mlen\u001b[39m(all_p)\n\u001b[1;32m    107\u001b[0m parameter_configurations \u001b[38;5;241m=\u001b[39m CliffordPhiVQA\u001b[38;5;241m.\u001b[39mparameter_configurations(num_parameters, order)\n\u001b[0;32m--> 108\u001b[0m parameter_tuples \u001b[38;5;241m=\u001b[39m \u001b[43mall_p\u001b[49m\u001b[43m[\u001b[49m\u001b[43mjnp\u001b[49m\u001b[38;5;241;43m.\u001b[39;49m\u001b[43marray\u001b[49m\u001b[43m(\u001b[49m\u001b[38;5;28;43mlist\u001b[39;49m\u001b[43m(\u001b[49m\u001b[43mparameter_configurations\u001b[49m\u001b[43m)\u001b[49m\u001b[43m)\u001b[49m\u001b[43m]\u001b[49m\n\u001b[1;32m    109\u001b[0m \u001b[38;5;28;01mreturn\u001b[39;00m vmap(partial(monomial_array, order))(parameter_tuples)\n",
      "File \u001b[0;32m~/Dropbox/hep/Sheets/Quantum Computing/slow_waves_conjecture/venv/lib/python3.8/site-packages/jax/core.py:473\u001b[0m, in \u001b[0;36mTracer.__index__\u001b[0;34m(self)\u001b[0m\n\u001b[1;32m    472\u001b[0m \u001b[38;5;28;01mdef\u001b[39;00m \u001b[38;5;21m__index__\u001b[39m(\u001b[38;5;28mself\u001b[39m):\n\u001b[0;32m--> 473\u001b[0m   \u001b[38;5;28;01mraise\u001b[39;00m TracerIntegerConversionError(\u001b[38;5;28mself\u001b[39m)\n",
      "\u001b[0;31mTracerIntegerConversionError\u001b[0m: The __index__() method was called on the JAX Tracer object Traced<ShapedArray(float32[0])>with<DynamicJaxprTrace(level=2/1)>\nSee https://jax.readthedocs.io/en/latest/errors.html#jax.errors.TracerIntegerConversionError"
     ]
    }
   ],
   "source": [
    "num_samples = 500\n",
    "angles_batch = Experiment.random_parameter_batch(num_samples, vqa.circuit.num_parameters)\n",
    "proxy_res = mynimize(f2, angles_batch, opt_options)\n",
    "plt.hist(np.array(proxy_res.all_best_losses))"
   ]
  },
  {
   "cell_type": "markdown",
   "id": "9c45ab51-87f2-4b5f-ad13-49a81cecf236",
   "metadata": {
    "tags": []
   },
   "source": [
    "# Using heuristic average for initialization"
   ]
  },
  {
   "cell_type": "code",
   "execution_count": 9,
   "id": "3a998d6e-8f8b-40dd-b934-6b85c1532176",
   "metadata": {},
   "outputs": [
    {
     "name": "stderr",
     "output_type": "stream",
     "text": [
      "2022-12-01 18:29:23.719799: E external/org_tensorflow/tensorflow/compiler/xla/service/slow_operation_alarm.cc:55] \n",
      "********************************\n",
      "Very slow compile?  If you want to file a bug, run with envvar XLA_FLAGS=--xla_dump_to=/tmp/foo and attach the results.\n",
      "Compiling module jit_single_minimize.53\n",
      "********************************\n"
     ]
    }
   ],
   "source": [
    "key = random.PRNGKey(42)\n",
    "\n",
    "num_qubits = 3\n",
    "num_parameters = 5\n",
    "\n",
    "qc = random_clifford_phi(num_qubits, num_parameters)\n",
    "state = random_statevector(2**num_qubits, seed=0)\n",
    "loss = Loss.from_state(state)\n",
    "vqa = CliffordPhiVQA(qc, loss)\n",
    "\n",
    "loss_from_fourier = vqa.fourier_expansion(jax=True)\n",
    "def loss(X):\n",
    "    return jnp.real(loss_from_fourier(X.x))\n",
    "\n",
    "X = namedtuple('X', ['x'])\n",
    "\n",
    "num_samples = 1000\n",
    "key, subkey = random.split(key)\n",
    "x0_uniform_batch = 2*jnp.pi*random.uniform(subkey, (num_samples, vqa.circuit.num_parameters))\n",
    "X0_uniform_batch = [X(x) for x in x0_uniform_batch]\n",
    "\n",
    "opt_options=OptOptions(num_iterations=2000, learning_rate=0.01)\n",
    "res_uniform = mynimize(loss, X0_uniform_batch, opt_options=opt_options)"
   ]
  },
  {
   "cell_type": "code",
   "execution_count": 10,
   "id": "ce460184-8284-49fe-ac33-52ef0aaa3c6d",
   "metadata": {},
   "outputs": [
    {
     "data": {
      "image/png": "[encoded data removed]",
      "text/plain": [
       "<Figure size 640x480 with 1 Axes>"
      ]
     },
     "metadata": {},
     "output_type": "display_data"
    }
   ],
   "source": [
    "plt.hist(res_uniform.all_best_losses);"
   ]
  },
  {
   "cell_type": "code",
   "execution_count": 23,
   "id": "fd313e4f-b39f-4667-9c2a-48dca3506bc6",
   "metadata": {},
   "outputs": [
    {
     "data": {
      "text/plain": [
       "0.37283417321009793"
      ]
     },
     "execution_count": 23,
     "metadata": {},
     "output_type": "execute_result"
    }
   ],
   "source": [
    "\n",
    "num_qubits = 2\n",
    "depth = 2\n",
    "\n",
    "anz = Ansatz(num_qubits, 'cz', fill_layers(chain_layer(num_qubits), depth), rotation_gates='xz')\n",
    "state = random_statevector(2**num_qubits, seed=0)\n",
    "\n",
    "qc = CliffordPhi.from_quantum_circuit(anz.circuit())\n",
    "vqa = CliffordPhiVQA(qc, Loss.from_state(state))\n",
    "\n",
    "permutation = [int(p.name[3:-1]) for p in vqa.circuit.parameters]\n",
    "inverse_permutation = np.argsort(permutation)\n",
    "\n",
    "X = namedtuple('X', ['x'])\n",
    "def loss(x):\n",
    "    x = x.x\n",
    "    x_p = [x[p] for p in inverse_permutation]\n",
    "    u = anz.unitary(jnp.array(x_p))\n",
    "    s = u@Statevector.from_label('0'*num_qubits).data\n",
    "    \n",
    "    return np.abs((s.conj() * state.reverse_qargs().data).sum())**2\n",
    "\n",
    "\n",
    "num_samples = 10\n",
    "key, subkey = random.split(key)\n",
    "x0_uniform_batch = 2*jnp.pi*random.uniform(subkey, (num_samples, anz.num_angles))\n",
    "X0_uniform_batch = [X(x) for x in x0_uniform_batch]\n",
    "\n",
    "\n",
    "loss(X0_uniform_batch[1])"
   ]
  },
  {
   "cell_type": "code",
   "execution_count": 24,
   "id": "69a2b81f-aed5-4286-bfdc-d0344937d12a",
   "metadata": {},
   "outputs": [
    {
     "data": {
      "text/plain": [
       "(0.37283429717282396+0j)"
      ]
     },
     "execution_count": 24,
     "metadata": {},
     "output_type": "execute_result"
    }
   ],
   "source": [
    "vqa.evaluate_loss_at(np.array(x0_uniform_batch[1]))"
   ]
  },
  {
   "cell_type": "code",
   "execution_count": null,
   "id": "c4a781be-71ae-434a-8582-f5bfbc11a031",
   "metadata": {},
   "outputs": [],
   "source": [
    "\n",
    "    \n",
    "\n",
    "num_samples = 1000\n",
    "key, subkey = random.split(key)\n",
    "opt_options=OptOptions(num_iterations=2000, learning_rate=0.01)\n",
    "\n",
    "\n",
    "x0_uniform_batch = 2*jnp.pi*random.uniform(subkey, (num_samples, anz.num_angles))\n",
    "X0_uniform_batch = [X(x) for x in x0_uniform_batch]\n",
    "\n",
    "res_uniform = mynimize(loss, X0_uniform_batch, opt_options=opt_options)\n",
    "\n",
    "key, subkey = random.split(key)\n",
    "hmin, x0 = pqc.heuristic_min(H)\n",
    "x0_heuristic_batch = jnp.array(x0)+0.1*random.normal(subkey, (num_samples, anz.num_angles))\n",
    "X0_heuristic_batch = [X(x) for x in x0_heuristic_batch]\n",
    "\n",
    "res_heuristic = mynimize(loss, X0_heuristic_batch, opt_options=opt_options)\n",
    "\n",
    "print(res_uniform)\n",
    "print(res_heuristic) \n",
    "\n",
    "plt.hist(np.array(res_uniform.all_best_losses), density=True, alpha=0.8);\n",
    "plt.hist(np.array(res_heuristic.all_best_losses), density=True, alpha=0.8);"
   ]
  },
  {
   "cell_type": "code",
   "execution_count": 74,
   "id": "00a88541-88e3-4338-a358-f54c2401f605",
   "metadata": {},
   "outputs": [
    {
     "name": "stdout",
     "output_type": "stream",
     "text": [
      "allclose: True\n",
      "OptMultiResult(best_loss -2.8169705867767334, success_ratio 0.0, num_samples 1000)\n",
      "OptMultiResult(best_loss -2.816957950592041, success_ratio 0.0, num_samples 1000)\n"
     ]
    },
    {
     "data": {
      "image/png": "[encoded data removed]",
      "text/plain": [
       "<Figure size 432x288 with 1 Axes>"
      ]
     },
     "metadata": {
      "needs_background": "light"
     },
     "output_type": "display_data"
    }
   ],
   "source": [
    "key = random.PRNGKey(42)\n",
    "\n",
    "num_qubits = 5\n",
    "depth = 10\n",
    "\n",
    "anz = Ansatz(num_qubits, 'cz', fill_layers(chain_layer(num_qubits), depth), rotation_gates='xz')\n",
    "pqc = PQC(anz.num_qubits)\n",
    "pqc.data = anz.circuit().data\n",
    "permutation = [int(p.name[3:-1]) for p in anz.circuit().parameters]\n",
    "inverse_permutation = np.argsort(permutation)\n",
    "\n",
    "### Test\n",
    "x=np.random.rand(anz.num_angles)\n",
    "x_p = [x[p] for p in inverse_permutation]\n",
    "print('allclose:', jnp.allclose(anz.unitary(jnp.array(x_p)), Operator(pqc.bind_parameters(x).reverse_bits()).data))\n",
    "\n",
    "key, subkey = random.split(key)\n",
    "H = random.uniform(subkey, (2, 2**num_qubits, 2**num_qubits))\n",
    "H = H[0]+1j*H[1]\n",
    "H = (H+H.conj().T)/2\n",
    "\n",
    "\n",
    "X = namedtuple('X', ['x'])\n",
    "def loss(x):\n",
    "    x = x.x\n",
    "    x_p = [x[p] for p in inverse_permutation]\n",
    "    u = anz.unitary(jnp.array(x_p))\n",
    "\n",
    "    return PQC.average(H, u)\n",
    "\n",
    "num_samples = 1000\n",
    "key, subkey = random.split(key)\n",
    "opt_options=OptOptions(num_iterations=2000, learning_rate=0.01)\n",
    "\n",
    "\n",
    "x0_uniform_batch = 2*jnp.pi*random.uniform(subkey, (num_samples, anz.num_angles))\n",
    "X0_uniform_batch = [X(x) for x in x0_uniform_batch]\n",
    "\n",
    "res_uniform = mynimize(loss, X0_uniform_batch, opt_options=opt_options)\n",
    "\n",
    "key, subkey = random.split(key)\n",
    "hmin, x0 = pqc.heuristic_min(H)\n",
    "x0_heuristic_batch = jnp.array(x0)+0.1*random.normal(subkey, (num_samples, anz.num_angles))\n",
    "X0_heuristic_batch = [X(x) for x in x0_heuristic_batch]\n",
    "\n",
    "res_heuristic = mynimize(loss, X0_heuristic_batch, opt_options=opt_options)\n",
    "\n",
    "print(res_uniform)\n",
    "print(res_heuristic) \n",
    "\n",
    "plt.hist(np.array(res_uniform.all_best_losses), density=True, alpha=0.8);\n",
    "plt.hist(np.array(res_heuristic.all_best_losses), density=True, alpha=0.8);"
   ]
  },
  {
   "cell_type": "code",
   "execution_count": 75,
   "id": "5317beaa-03c1-488d-8a46-d40b7f30d159",
   "metadata": {},
   "outputs": [
    {
     "data": {
      "image/png": "[encoded data removed]",
      "text/plain": [
       "<Figure size 432x288 with 1 Axes>"
      ]
     },
     "metadata": {
      "needs_background": "light"
     },
     "output_type": "display_data"
    }
   ],
   "source": [
    "plt.hist(np.array(res_uniform.all_best_losses), alpha=0.8);\n",
    "plt.hist(np.array(res_heuristic.all_best_losses), alpha=0.8);"
   ]
  },
  {
   "cell_type": "code",
   "execution_count": 76,
   "id": "37760dc7-50eb-475f-a876-d99251507264",
   "metadata": {},
   "outputs": [
    {
     "name": "stdout",
     "output_type": "stream",
     "text": [
      "OptMultiResult(best_loss -2.8169705867767334, success_ratio 0.0, num_samples 1000)\n",
      "OptMultiResult(best_loss -2.816957950592041, success_ratio 0.0, num_samples 1000)\n"
     ]
    }
   ],
   "source": [
    "print(res_uniform)\n",
    "print(res_heuristic) "
   ]
  },
  {
   "cell_type": "code",
   "execution_count": 44,
   "id": "de8d2494-a960-4a85-8631-1d9579bc6861",
   "metadata": {},
   "outputs": [
    {
     "data": {
      "text/plain": [
       "OptOptions(learning_rate=0.01, num_iterations=2000, random_seed=0, regularization_func=None, keep_history=True)"
      ]
     },
     "execution_count": 44,
     "metadata": {},
     "output_type": "execute_result"
    }
   ],
   "source": [
    "opt_options"
   ]
  },
  {
   "cell_type": "code",
   "execution_count": 41,
   "id": "86a93eb4-17ba-4be4-a963-e406ad534952",
   "metadata": {},
   "outputs": [
    {
     "data": {
      "text/plain": [
       "OptOptions(learning_rate=0.01, num_iterations=100, random_seed=0, regularization_func=None, keep_history=True)"
      ]
     },
     "execution_count": 41,
     "metadata": {},
     "output_type": "execute_result"
    }
   ],
   "source": [
    "OptOptions()"
   ]
  },
  {
   "cell_type": "code",
   "execution_count": 40,
   "id": "a4e2da51-0ee8-4caa-b517-0eecfacda105",
   "metadata": {},
   "outputs": [
    {
     "data": {
      "text/html": [
       "<pre style=\"word-wrap: normal;white-space: pre;background: #fff0;line-height: 1.1;font-family: &quot;Courier New&quot;,Courier,monospace\">     ┌───────────┐┌───────────┐┌───────────┐\n",
       "q_0: ┤ Rz(a_{0}) ├┤ Rx(a_{1}) ├┤ Rz(a_{2}) ├\n",
       "     ├───────────┤├───────────┤├───────────┤\n",
       "q_1: ┤ Rz(a_{3}) ├┤ Rx(a_{4}) ├┤ Rz(a_{5}) ├\n",
       "     └───────────┘└───────────┘└───────────┘</pre>"
      ],
      "text/plain": [
       "     ┌───────────┐┌───────────┐┌───────────┐\n",
       "q_0: ┤ Rz(a_{0}) ├┤ Rx(a_{1}) ├┤ Rz(a_{2}) ├\n",
       "     ├───────────┤├───────────┤├───────────┤\n",
       "q_1: ┤ Rz(a_{3}) ├┤ Rx(a_{4}) ├┤ Rz(a_{5}) ├\n",
       "     └───────────┘└───────────┘└───────────┘"
      ]
     },
     "execution_count": 40,
     "metadata": {},
     "output_type": "execute_result"
    }
   ],
   "source": [
    "pqc.draw()"
   ]
  },
  {
   "cell_type": "code",
   "execution_count": 33,
   "id": "334b0c6e-671f-4971-9f23-1f6fad22648c",
   "metadata": {},
   "outputs": [
    {
     "data": {
      "image/png": "[encoded data removed]",
      "text/plain": [
       "<Figure size 432x288 with 1 Axes>"
      ]
     },
     "metadata": {
      "needs_background": "light"
     },
     "output_type": "display_data"
    }
   ],
   "source": [
    "plt.hist(np.array(res_uniform.all_best_losses), density=True, alpha=0.9);\n",
    "plt.hist(np.array(res_heuristic.all_best_losses), density=True, alpha=0.9);"
   ]
  },
  {
   "cell_type": "code",
   "execution_count": 29,
   "id": "6d729033-8389-4c14-9826-b2c29a19f77b",
   "metadata": {},
   "outputs": [
    {
     "data": {
      "image/png": "[encoded data removed]",
      "text/plain": [
       "<Figure size 432x288 with 1 Axes>"
      ]
     },
     "metadata": {
      "needs_background": "light"
     },
     "output_type": "display_data"
    }
   ],
   "source": [
    "plt.hist(np.array(res_uniform.all_best_losses), density=True);\n",
    "# plt.hist(np.array(res_heuristic.all_best_losses), density=True);"
   ]
  },
  {
   "cell_type": "code",
   "execution_count": 19,
   "id": "1970aac3-8403-4102-a203-6d539917b19e",
   "metadata": {},
   "outputs": [
    {
     "data": {
      "image/png": "[encoded data removed]",
      "text/plain": [
       "<Figure size 432x288 with 1 Axes>"
      ]
     },
     "metadata": {
      "needs_background": "light"
     },
     "output_type": "display_data"
    }
   ],
   "source": [
    "plt.hist(np.array(res_uniform.all_best_losses));"
   ]
  },
  {
   "cell_type": "code",
   "execution_count": 20,
   "id": "eb6537ee-d6d8-4642-9f8d-f29d1a5bdfe6",
   "metadata": {},
   "outputs": [
    {
     "data": {
      "image/png": "[encoded data removed]",
      "text/plain": [
       "<Figure size 432x288 with 1 Axes>"
      ]
     },
     "metadata": {
      "needs_background": "light"
     },
     "output_type": "display_data"
    }
   ],
   "source": [
    "plt.hist(np.array(res_heuristic.all_best_losses));"
   ]
  },
  {
   "cell_type": "code",
   "execution_count": 30,
   "id": "40daaf2b-2450-4163-be86-7eaa58319d76",
   "metadata": {},
   "outputs": [
    {
     "data": {
      "image/png": "[encoded data removed]",
      "text/plain": [
       "<Figure size 432x288 with 1 Axes>"
      ]
     },
     "metadata": {
      "needs_background": "light"
     },
     "output_type": "display_data"
    }
   ],
   "source": [
    "key = random.PRNGKey(0)\n",
    "\n",
    "num_qubits = 4\n",
    "depth = 12\n",
    "\n",
    "anz = Ansatz(num_qubits, 'cz', fill_layers(chain_layer(num_qubits), depth), rotation_gates='xz')\n",
    "pqc = PQC(anz.num_qubits)\n",
    "pqc.data = anz.circuit().data\n",
    "permutation = [int(p.name[3:-1]) for p in anz.circuit().parameters]\n",
    "inverse_permutation = np.argsort(permutation)\n",
    "\n",
    "### Test\n",
    "#x=np.random.rand(anz.num_angles)\n",
    "#x_p = [x[p] for p in inverse_permutation]\n",
    "#jnp.allclose(anz.unitary(jnp.array(x_p)), Operator(pqc.bind_parameters(x).reverse_bits()).data)\n",
    "\n",
    "key, subkey = random.split(key)\n",
    "H = random.uniform(subkey, (2, 2**num_qubits, 2**num_qubits))\n",
    "H = H[0]+1j*H[1]\n",
    "H = (H+H.conj().T)/2\n",
    "\n",
    "\n",
    "X = namedtuple('X', ['x'])\n",
    "def loss(x):\n",
    "    x = x.x\n",
    "    x_p = [x[p] for p in inverse_permutation]\n",
    "    u = anz.unitary(jnp.array(x_p))\n",
    "\n",
    "    return PQC.average(H, u)\n",
    "\n",
    "num_samples = 100\n",
    "key, subkey = random.split(key)\n",
    "\n",
    "x0_uniform_batch = 2*jnp.pi*random.uniform(subkey, (num_samples, anz.num_angles))\n",
    "X0_uniform_batch = [X(x) for x in x0_uniform_batch]\n",
    "\n",
    "res_uniform = mynimize(loss, X0_uniform_batch, opt_options=OptOptions())\n",
    "\n",
    "key, subkey = random.split(key)\n",
    "hmin, x0 = pqc.heuristic_min(H)\n",
    "x0_heuristic_batch = jnp.array(x0)+0.01*random.normal(subkey, (num_samples, anz.num_angles))\n",
    "X0_heuristic_batch = [X(x) for x in x0_heuristic_batch]\n",
    "\n",
    "res_heuristic = mynimize(loss, X0_heuristic_batch, opt_options=OptOptions())\n",
    "\n",
    "plt.hist(np.array(res_uniform.all_best_losses));\n",
    "plt.hist(np.array(res_heuristic.all_best_losses));"
   ]
  },
  {
   "cell_type": "code",
   "execution_count": null,
   "id": "5c9ab762-66e0-485b-ad31-7bd3db1a82fc",
   "metadata": {},
   "outputs": [],
   "source": [
    "loss(X(x0))"
   ]
  },
  {
   "cell_type": "code",
   "execution_count": null,
   "id": "7398f69c-1031-40b9-b3bd-9597b3a2b3db",
   "metadata": {},
   "outputs": [],
   "source": [
    "res_uniform"
   ]
  },
  {
   "cell_type": "code",
   "execution_count": 480,
   "id": "a5d2e6e5-2375-44fd-bb8f-f8bf7aa6f8ee",
   "metadata": {},
   "outputs": [
    {
     "data": {
      "text/plain": [
       "OptMultiResult(best_loss -2.0294768810272217, success_ratio 0.0, num_samples 100)"
      ]
     },
     "execution_count": 480,
     "metadata": {},
     "output_type": "execute_result"
    }
   ],
   "source": [
    "res_heuristic"
   ]
  },
  {
   "cell_type": "raw",
   "id": "c2006927-6bac-4976-9bd5-1f0d33114940",
   "metadata": {},
   "source": [
    "res_heuristic"
   ]
  }
 ],
 "metadata": {
  "kernelspec": {
   "display_name": "slow_waves_python38",
   "language": "python",
   "name": "slow_waves_venv"
  },
  "language_info": {
   "codemirror_mode": {
    "name": "ipython",
    "version": 3
   },
   "file_extension": ".py",
   "mimetype": "text/x-python",
   "name": "python",
   "nbconvert_exporter": "python",
   "pygments_lexer": "ipython3",
   "version": "3.8.10"
  },
  "widgets": {
   "application/vnd.jupyter.widget-state+json": {
    "state": {},
    "version_major": 2,
    "version_minor": 0
   }
  }
 },
 "nbformat": 4,
 "nbformat_minor": 5
}
