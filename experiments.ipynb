{
 "cells": [
  {
   "cell_type": "markdown",
   "id": "4828b130-75b5-4b5e-bbad-415bba2cb6b8",
   "metadata": {
    "tags": []
   },
   "source": [
    "# Imports"
   ]
  },
  {
   "cell_type": "code",
   "execution_count": 1,
   "id": "383c7886-499d-43c1-8353-911091943f23",
   "metadata": {
    "tags": []
   },
   "outputs": [],
   "source": [
    "from qiskit import *\n",
    "from qiskit.circuit import Parameter, ParameterExpression, Gate, Qubit\n",
    "from qiskit.circuit.library import XGate, YGate, ZGate, IGate, CPhaseGate\n",
    "from qiskit.quantum_info import Operator, Statevector, random_clifford, Clifford, Pauli, DensityMatrix\n",
    "from qiskit.quantum_info import SparsePauliOp, PauliList, random_statevector, StabilizerTable\n",
    "from qiskit.quantum_info import pauli_basis, StabilizerState, DensityMatrix, random_density_matrix, random_unitary\n",
    "\n",
    "import numpy as np\n",
    "from functools import reduce\n",
    "from itertools import product\n",
    "# from cpflow.trigonometric_utils import min_angle\n",
    "\n",
    "# from cpflow import *\n",
    "# from cpflow.topology import *\n",
    "import matplotlib.pyplot as plt\n",
    "from mynimize import *\n",
    "import jax.numpy as jnp\n",
    "from collections import namedtuple\n",
    "\n",
    "from wave_expansion import *\n",
    "from tests.test_wave_expansion import *\n",
    "from jax_utils import jax_tensor, jax_loss\n",
    "\n",
    "from jax import random\n",
    "import cProfile\n",
    "from functools import partial\n",
    "from random import sample\n",
    "\n",
    "# %%prun -s cumulative -l 20"
   ]
  },
  {
   "cell_type": "markdown",
   "id": "b2342a64-3881-4b6c-85a0-4542f23901ca",
   "metadata": {},
   "source": [
    "# Are there traps at order 2?"
   ]
  },
  {
   "cell_type": "markdown",
   "id": "ab930d85-a936-45ff-b269-9a84d28e1fa6",
   "metadata": {},
   "source": [
    "Random pauli hamiltonian."
   ]
  },
  {
   "cell_type": "code",
   "execution_count": 2,
   "id": "0169d65c-7c4d-4a85-a663-8f70a252694f",
   "metadata": {},
   "outputs": [],
   "source": [
    "def random_pauli_loss(num_qubits, num_terms):\n",
    "    np.random.seed(0)\n",
    "    paulis = sample([p.to_label() for p in pauli_basis(num_qubits)], num_terms)\n",
    "    coeffs = np.random.rand(num_terms)/np.sqrt(num_terms)\n",
    "\n",
    "    hamiltonian = SparsePauliOp.from_list(zip(paulis, coeffs))\n",
    "    construct_circuit = lambda qc: qc\n",
    "    return Loss(construct_circuit, hamiltonian)"
   ]
  },
  {
   "cell_type": "code",
   "execution_count": 11,
   "id": "86521dfb-6604-4de0-891c-632d21a2f5a9",
   "metadata": {},
   "outputs": [],
   "source": [
    "class Experiment:\n",
    "    def __init__(self, num_qubits, depth, num_pauli_terms):\n",
    "        self.num_qubits = num_qubits\n",
    "        self.depth = depth\n",
    "        self.num_pauli_terms = num_pauli_terms\n",
    "    \n",
    "    @property\n",
    "    def loss(self):\n",
    "        return random_pauli_loss(self.num_qubits, self.num_pauli_terms)\n",
    "    \n",
    "    @property\n",
    "    def vqa(self):\n",
    "        qc = linear_ansatz_circuit(self.num_qubits, self.depth)\n",
    "        return CliffordPhiVQA(qc, self.loss)\n",
    "    \n",
    "    angles = namedtuple('angles', 'values')\n",
    "    \n",
    "    @staticmethod\n",
    "    def random_parameter_batch(num_samples, num_parameters):\n",
    "        num_samples = 100\n",
    "        values_batch = 2*jnp.pi*random.uniform(random.PRNGKey(0), (num_samples, num_parameters))\n",
    "        angles_batch = [Experiment.angles(v) for v in values_batch]\n",
    "        return angles_batch\n",
    "    \n",
    "    def run(self, num_samples=100, opt_options=None):\n",
    "        if not opt_options:\n",
    "            opt_options = OptOptions(learning_rate=0.01, num_iterations=2000)\n",
    "                \n",
    "        angles_batch = self.random_parameter_batch(num_samples, self.vqa.circuit.num_parameters)\n",
    "        loss_func = lambda a: jax_loss(self.vqa.circuit, self.vqa.loss.hamiltonian)(a.values)        \n",
    "        res = mynimize(loss_func, angles_batch, opt_options)\n",
    "        plt.hist(np.array(res.all_best_losses));\n",
    "        return res"
   ]
  },
  {
   "cell_type": "markdown",
   "id": "268c55a2-4e81-4e28-969b-370d9abc39d2",
   "metadata": {},
   "source": [
    "A trapping loss landscape with not too demanding resources."
   ]
  },
  {
   "cell_type": "code",
   "execution_count": 27,
   "id": "34abb6d9-4e83-4940-b3d8-c92292035397",
   "metadata": {},
   "outputs": [
    {
     "name": "stdout",
     "output_type": "stream",
     "text": [
      "CPU times: user 38.5 s, sys: 170 ms, total: 38.6 s\n",
      "Wall time: 38.6 s\n"
     ]
    },
    {
     "data": {
      "image/png": "[encoded data removed]",
      "text/plain": [
       "<Figure size 640x480 with 1 Axes>"
      ]
     },
     "metadata": {},
     "output_type": "display_data"
    }
   ],
   "source": [
    "%%time\n",
    "\n",
    "num_qubits = 5\n",
    "depth = 10\n",
    "# num_pauli_terms = 2**(2*num_qubits)\n",
    "num_pauli_terms = 30\n",
    "\n",
    "e = Experiment(num_qubits, depth, num_pauli_terms)\n",
    "opt_options = OptOptions(learning_rate=0.01, num_iterations=500)\n",
    "res = e.run(num_samples=500, opt_options=opt_options)"
   ]
  },
  {
   "cell_type": "markdown",
   "id": "9c45ab51-87f2-4b5f-ad13-49a81cecf236",
   "metadata": {
    "tags": []
   },
   "source": [
    "# Using heuristic average for initialization"
   ]
  },
  {
   "cell_type": "code",
   "execution_count": 9,
   "id": "3a998d6e-8f8b-40dd-b934-6b85c1532176",
   "metadata": {},
   "outputs": [
    {
     "name": "stderr",
     "output_type": "stream",
     "text": [
      "2022-12-01 18:29:23.719799: E external/org_tensorflow/tensorflow/compiler/xla/service/slow_operation_alarm.cc:55] \n",
      "********************************\n",
      "Very slow compile?  If you want to file a bug, run with envvar XLA_FLAGS=--xla_dump_to=/tmp/foo and attach the results.\n",
      "Compiling module jit_single_minimize.53\n",
      "********************************\n"
     ]
    }
   ],
   "source": [
    "key = random.PRNGKey(42)\n",
    "\n",
    "num_qubits = 3\n",
    "num_parameters = 5\n",
    "\n",
    "qc = random_clifford_phi(num_qubits, num_parameters)\n",
    "state = random_statevector(2**num_qubits, seed=0)\n",
    "loss = Loss.from_state(state)\n",
    "vqa = CliffordPhiVQA(qc, loss)\n",
    "\n",
    "loss_from_fourier = vqa.fourier_expansion(jax=True)\n",
    "def loss(X):\n",
    "    return jnp.real(loss_from_fourier(X.x))\n",
    "\n",
    "X = namedtuple('X', ['x'])\n",
    "\n",
    "num_samples = 1000\n",
    "key, subkey = random.split(key)\n",
    "x0_uniform_batch = 2*jnp.pi*random.uniform(subkey, (num_samples, vqa.circuit.num_parameters))\n",
    "X0_uniform_batch = [X(x) for x in x0_uniform_batch]\n",
    "\n",
    "opt_options=OptOptions(num_iterations=2000, learning_rate=0.01)\n",
    "res_uniform = mynimize(loss, X0_uniform_batch, opt_options=opt_options)"
   ]
  },
  {
   "cell_type": "code",
   "execution_count": 10,
   "id": "ce460184-8284-49fe-ac33-52ef0aaa3c6d",
   "metadata": {},
   "outputs": [
    {
     "data": {
      "image/png": "[encoded data removed]",
      "text/plain": [
       "<Figure size 640x480 with 1 Axes>"
      ]
     },
     "metadata": {},
     "output_type": "display_data"
    }
   ],
   "source": [
    "plt.hist(res_uniform.all_best_losses);"
   ]
  },
  {
   "cell_type": "code",
   "execution_count": 23,
   "id": "fd313e4f-b39f-4667-9c2a-48dca3506bc6",
   "metadata": {},
   "outputs": [
    {
     "data": {
      "text/plain": [
       "0.37283417321009793"
      ]
     },
     "execution_count": 23,
     "metadata": {},
     "output_type": "execute_result"
    }
   ],
   "source": [
    "\n",
    "num_qubits = 2\n",
    "depth = 2\n",
    "\n",
    "anz = Ansatz(num_qubits, 'cz', fill_layers(chain_layer(num_qubits), depth), rotation_gates='xz')\n",
    "state = random_statevector(2**num_qubits, seed=0)\n",
    "\n",
    "qc = CliffordPhi.from_quantum_circuit(anz.circuit())\n",
    "vqa = CliffordPhiVQA(qc, Loss.from_state(state))\n",
    "\n",
    "permutation = [int(p.name[3:-1]) for p in vqa.circuit.parameters]\n",
    "inverse_permutation = np.argsort(permutation)\n",
    "\n",
    "X = namedtuple('X', ['x'])\n",
    "def loss(x):\n",
    "    x = x.x\n",
    "    x_p = [x[p] for p in inverse_permutation]\n",
    "    u = anz.unitary(jnp.array(x_p))\n",
    "    s = u@Statevector.from_label('0'*num_qubits).data\n",
    "    \n",
    "    return np.abs((s.conj() * state.reverse_qargs().data).sum())**2\n",
    "\n",
    "\n",
    "num_samples = 10\n",
    "key, subkey = random.split(key)\n",
    "x0_uniform_batch = 2*jnp.pi*random.uniform(subkey, (num_samples, anz.num_angles))\n",
    "X0_uniform_batch = [X(x) for x in x0_uniform_batch]\n",
    "\n",
    "\n",
    "loss(X0_uniform_batch[1])"
   ]
  },
  {
   "cell_type": "code",
   "execution_count": 24,
   "id": "69a2b81f-aed5-4286-bfdc-d0344937d12a",
   "metadata": {},
   "outputs": [
    {
     "data": {
      "text/plain": [
       "(0.37283429717282396+0j)"
      ]
     },
     "execution_count": 24,
     "metadata": {},
     "output_type": "execute_result"
    }
   ],
   "source": [
    "vqa.evaluate_loss_at(np.array(x0_uniform_batch[1]))"
   ]
  },
  {
   "cell_type": "code",
   "execution_count": null,
   "id": "c4a781be-71ae-434a-8582-f5bfbc11a031",
   "metadata": {},
   "outputs": [],
   "source": [
    "\n",
    "    \n",
    "\n",
    "num_samples = 1000\n",
    "key, subkey = random.split(key)\n",
    "opt_options=OptOptions(num_iterations=2000, learning_rate=0.01)\n",
    "\n",
    "\n",
    "x0_uniform_batch = 2*jnp.pi*random.uniform(subkey, (num_samples, anz.num_angles))\n",
    "X0_uniform_batch = [X(x) for x in x0_uniform_batch]\n",
    "\n",
    "res_uniform = mynimize(loss, X0_uniform_batch, opt_options=opt_options)\n",
    "\n",
    "key, subkey = random.split(key)\n",
    "hmin, x0 = pqc.heuristic_min(H)\n",
    "x0_heuristic_batch = jnp.array(x0)+0.1*random.normal(subkey, (num_samples, anz.num_angles))\n",
    "X0_heuristic_batch = [X(x) for x in x0_heuristic_batch]\n",
    "\n",
    "res_heuristic = mynimize(loss, X0_heuristic_batch, opt_options=opt_options)\n",
    "\n",
    "print(res_uniform)\n",
    "print(res_heuristic) \n",
    "\n",
    "plt.hist(np.array(res_uniform.all_best_losses), density=True, alpha=0.8);\n",
    "plt.hist(np.array(res_heuristic.all_best_losses), density=True, alpha=0.8);"
   ]
  },
  {
   "cell_type": "code",
   "execution_count": 74,
   "id": "00a88541-88e3-4338-a358-f54c2401f605",
   "metadata": {},
   "outputs": [
    {
     "name": "stdout",
     "output_type": "stream",
     "text": [
      "allclose: True\n",
      "OptMultiResult(best_loss -2.8169705867767334, success_ratio 0.0, num_samples 1000)\n",
      "OptMultiResult(best_loss -2.816957950592041, success_ratio 0.0, num_samples 1000)\n"
     ]
    },
    {
     "data": {
      "image/png": "[encoded data removed]",
      "text/plain": [
       "<Figure size 432x288 with 1 Axes>"
      ]
     },
     "metadata": {
      "needs_background": "light"
     },
     "output_type": "display_data"
    }
   ],
   "source": [
    "key = random.PRNGKey(42)\n",
    "\n",
    "num_qubits = 5\n",
    "depth = 10\n",
    "\n",
    "anz = Ansatz(num_qubits, 'cz', fill_layers(chain_layer(num_qubits), depth), rotation_gates='xz')\n",
    "pqc = PQC(anz.num_qubits)\n",
    "pqc.data = anz.circuit().data\n",
    "permutation = [int(p.name[3:-1]) for p in anz.circuit().parameters]\n",
    "inverse_permutation = np.argsort(permutation)\n",
    "\n",
    "### Test\n",
    "x=np.random.rand(anz.num_angles)\n",
    "x_p = [x[p] for p in inverse_permutation]\n",
    "print('allclose:', jnp.allclose(anz.unitary(jnp.array(x_p)), Operator(pqc.bind_parameters(x).reverse_bits()).data))\n",
    "\n",
    "key, subkey = random.split(key)\n",
    "H = random.uniform(subkey, (2, 2**num_qubits, 2**num_qubits))\n",
    "H = H[0]+1j*H[1]\n",
    "H = (H+H.conj().T)/2\n",
    "\n",
    "\n",
    "X = namedtuple('X', ['x'])\n",
    "def loss(x):\n",
    "    x = x.x\n",
    "    x_p = [x[p] for p in inverse_permutation]\n",
    "    u = anz.unitary(jnp.array(x_p))\n",
    "\n",
    "    return PQC.average(H, u)\n",
    "\n",
    "num_samples = 1000\n",
    "key, subkey = random.split(key)\n",
    "opt_options=OptOptions(num_iterations=2000, learning_rate=0.01)\n",
    "\n",
    "\n",
    "x0_uniform_batch = 2*jnp.pi*random.uniform(subkey, (num_samples, anz.num_angles))\n",
    "X0_uniform_batch = [X(x) for x in x0_uniform_batch]\n",
    "\n",
    "res_uniform = mynimize(loss, X0_uniform_batch, opt_options=opt_options)\n",
    "\n",
    "key, subkey = random.split(key)\n",
    "hmin, x0 = pqc.heuristic_min(H)\n",
    "x0_heuristic_batch = jnp.array(x0)+0.1*random.normal(subkey, (num_samples, anz.num_angles))\n",
    "X0_heuristic_batch = [X(x) for x in x0_heuristic_batch]\n",
    "\n",
    "res_heuristic = mynimize(loss, X0_heuristic_batch, opt_options=opt_options)\n",
    "\n",
    "print(res_uniform)\n",
    "print(res_heuristic) \n",
    "\n",
    "plt.hist(np.array(res_uniform.all_best_losses), density=True, alpha=0.8);\n",
    "plt.hist(np.array(res_heuristic.all_best_losses), density=True, alpha=0.8);"
   ]
  },
  {
   "cell_type": "code",
   "execution_count": 75,
   "id": "5317beaa-03c1-488d-8a46-d40b7f30d159",
   "metadata": {},
   "outputs": [
    {
     "data": {
      "image/png": "[encoded data removed]",
      "text/plain": [
       "<Figure size 432x288 with 1 Axes>"
      ]
     },
     "metadata": {
      "needs_background": "light"
     },
     "output_type": "display_data"
    }
   ],
   "source": [
    "plt.hist(np.array(res_uniform.all_best_losses), alpha=0.8);\n",
    "plt.hist(np.array(res_heuristic.all_best_losses), alpha=0.8);"
   ]
  },
  {
   "cell_type": "code",
   "execution_count": 76,
   "id": "37760dc7-50eb-475f-a876-d99251507264",
   "metadata": {},
   "outputs": [
    {
     "name": "stdout",
     "output_type": "stream",
     "text": [
      "OptMultiResult(best_loss -2.8169705867767334, success_ratio 0.0, num_samples 1000)\n",
      "OptMultiResult(best_loss -2.816957950592041, success_ratio 0.0, num_samples 1000)\n"
     ]
    }
   ],
   "source": [
    "print(res_uniform)\n",
    "print(res_heuristic) "
   ]
  },
  {
   "cell_type": "code",
   "execution_count": 44,
   "id": "de8d2494-a960-4a85-8631-1d9579bc6861",
   "metadata": {},
   "outputs": [
    {
     "data": {
      "text/plain": [
       "OptOptions(learning_rate=0.01, num_iterations=2000, random_seed=0, regularization_func=None, keep_history=True)"
      ]
     },
     "execution_count": 44,
     "metadata": {},
     "output_type": "execute_result"
    }
   ],
   "source": [
    "opt_options"
   ]
  },
  {
   "cell_type": "code",
   "execution_count": 41,
   "id": "86a93eb4-17ba-4be4-a963-e406ad534952",
   "metadata": {},
   "outputs": [
    {
     "data": {
      "text/plain": [
       "OptOptions(learning_rate=0.01, num_iterations=100, random_seed=0, regularization_func=None, keep_history=True)"
      ]
     },
     "execution_count": 41,
     "metadata": {},
     "output_type": "execute_result"
    }
   ],
   "source": [
    "OptOptions()"
   ]
  },
  {
   "cell_type": "code",
   "execution_count": 40,
   "id": "a4e2da51-0ee8-4caa-b517-0eecfacda105",
   "metadata": {},
   "outputs": [
    {
     "data": {
      "text/html": [
       "<pre style=\"word-wrap: normal;white-space: pre;background: #fff0;line-height: 1.1;font-family: &quot;Courier New&quot;,Courier,monospace\">     ┌───────────┐┌───────────┐┌───────────┐\n",
       "q_0: ┤ Rz(a_{0}) ├┤ Rx(a_{1}) ├┤ Rz(a_{2}) ├\n",
       "     ├───────────┤├───────────┤├───────────┤\n",
       "q_1: ┤ Rz(a_{3}) ├┤ Rx(a_{4}) ├┤ Rz(a_{5}) ├\n",
       "     └───────────┘└───────────┘└───────────┘</pre>"
      ],
      "text/plain": [
       "     ┌───────────┐┌───────────┐┌───────────┐\n",
       "q_0: ┤ Rz(a_{0}) ├┤ Rx(a_{1}) ├┤ Rz(a_{2}) ├\n",
       "     ├───────────┤├───────────┤├───────────┤\n",
       "q_1: ┤ Rz(a_{3}) ├┤ Rx(a_{4}) ├┤ Rz(a_{5}) ├\n",
       "     └───────────┘└───────────┘└───────────┘"
      ]
     },
     "execution_count": 40,
     "metadata": {},
     "output_type": "execute_result"
    }
   ],
   "source": [
    "pqc.draw()"
   ]
  },
  {
   "cell_type": "code",
   "execution_count": 33,
   "id": "334b0c6e-671f-4971-9f23-1f6fad22648c",
   "metadata": {},
   "outputs": [
    {
     "data": {
      "image/png": "[encoded data removed]",
      "text/plain": [
       "<Figure size 432x288 with 1 Axes>"
      ]
     },
     "metadata": {
      "needs_background": "light"
     },
     "output_type": "display_data"
    }
   ],
   "source": [
    "plt.hist(np.array(res_uniform.all_best_losses), density=True, alpha=0.9);\n",
    "plt.hist(np.array(res_heuristic.all_best_losses), density=True, alpha=0.9);"
   ]
  },
  {
   "cell_type": "code",
   "execution_count": 29,
   "id": "6d729033-8389-4c14-9826-b2c29a19f77b",
   "metadata": {},
   "outputs": [
    {
     "data": {
      "image/png": "[encoded data removed]",
      "text/plain": [
       "<Figure size 432x288 with 1 Axes>"
      ]
     },
     "metadata": {
      "needs_background": "light"
     },
     "output_type": "display_data"
    }
   ],
   "source": [
    "plt.hist(np.array(res_uniform.all_best_losses), density=True);\n",
    "# plt.hist(np.array(res_heuristic.all_best_losses), density=True);"
   ]
  },
  {
   "cell_type": "code",
   "execution_count": 19,
   "id": "1970aac3-8403-4102-a203-6d539917b19e",
   "metadata": {},
   "outputs": [
    {
     "data": {
      "image/png": "[encoded data removed]",
      "text/plain": [
       "<Figure size 432x288 with 1 Axes>"
      ]
     },
     "metadata": {
      "needs_background": "light"
     },
     "output_type": "display_data"
    }
   ],
   "source": [
    "plt.hist(np.array(res_uniform.all_best_losses));"
   ]
  },
  {
   "cell_type": "code",
   "execution_count": 20,
   "id": "eb6537ee-d6d8-4642-9f8d-f29d1a5bdfe6",
   "metadata": {},
   "outputs": [
    {
     "data": {
      "image/png": "[encoded data removed]",
      "text/plain": [
       "<Figure size 432x288 with 1 Axes>"
      ]
     },
     "metadata": {
      "needs_background": "light"
     },
     "output_type": "display_data"
    }
   ],
   "source": [
    "plt.hist(np.array(res_heuristic.all_best_losses));"
   ]
  },
  {
   "cell_type": "code",
   "execution_count": 30,
   "id": "40daaf2b-2450-4163-be86-7eaa58319d76",
   "metadata": {},
   "outputs": [
    {
     "data": {
      "image/png": "[encoded data removed]",
      "text/plain": [
       "<Figure size 432x288 with 1 Axes>"
      ]
     },
     "metadata": {
      "needs_background": "light"
     },
     "output_type": "display_data"
    }
   ],
   "source": [
    "key = random.PRNGKey(0)\n",
    "\n",
    "num_qubits = 4\n",
    "depth = 12\n",
    "\n",
    "anz = Ansatz(num_qubits, 'cz', fill_layers(chain_layer(num_qubits), depth), rotation_gates='xz')\n",
    "pqc = PQC(anz.num_qubits)\n",
    "pqc.data = anz.circuit().data\n",
    "permutation = [int(p.name[3:-1]) for p in anz.circuit().parameters]\n",
    "inverse_permutation = np.argsort(permutation)\n",
    "\n",
    "### Test\n",
    "#x=np.random.rand(anz.num_angles)\n",
    "#x_p = [x[p] for p in inverse_permutation]\n",
    "#jnp.allclose(anz.unitary(jnp.array(x_p)), Operator(pqc.bind_parameters(x).reverse_bits()).data)\n",
    "\n",
    "key, subkey = random.split(key)\n",
    "H = random.uniform(subkey, (2, 2**num_qubits, 2**num_qubits))\n",
    "H = H[0]+1j*H[1]\n",
    "H = (H+H.conj().T)/2\n",
    "\n",
    "\n",
    "X = namedtuple('X', ['x'])\n",
    "def loss(x):\n",
    "    x = x.x\n",
    "    x_p = [x[p] for p in inverse_permutation]\n",
    "    u = anz.unitary(jnp.array(x_p))\n",
    "\n",
    "    return PQC.average(H, u)\n",
    "\n",
    "num_samples = 100\n",
    "key, subkey = random.split(key)\n",
    "\n",
    "x0_uniform_batch = 2*jnp.pi*random.uniform(subkey, (num_samples, anz.num_angles))\n",
    "X0_uniform_batch = [X(x) for x in x0_uniform_batch]\n",
    "\n",
    "res_uniform = mynimize(loss, X0_uniform_batch, opt_options=OptOptions())\n",
    "\n",
    "key, subkey = random.split(key)\n",
    "hmin, x0 = pqc.heuristic_min(H)\n",
    "x0_heuristic_batch = jnp.array(x0)+0.01*random.normal(subkey, (num_samples, anz.num_angles))\n",
    "X0_heuristic_batch = [X(x) for x in x0_heuristic_batch]\n",
    "\n",
    "res_heuristic = mynimize(loss, X0_heuristic_batch, opt_options=OptOptions())\n",
    "\n",
    "plt.hist(np.array(res_uniform.all_best_losses));\n",
    "plt.hist(np.array(res_heuristic.all_best_losses));"
   ]
  },
  {
   "cell_type": "code",
   "execution_count": null,
   "id": "5c9ab762-66e0-485b-ad31-7bd3db1a82fc",
   "metadata": {},
   "outputs": [],
   "source": [
    "loss(X(x0))"
   ]
  },
  {
   "cell_type": "code",
   "execution_count": null,
   "id": "7398f69c-1031-40b9-b3bd-9597b3a2b3db",
   "metadata": {},
   "outputs": [],
   "source": [
    "res_uniform"
   ]
  },
  {
   "cell_type": "code",
   "execution_count": 480,
   "id": "a5d2e6e5-2375-44fd-bb8f-f8bf7aa6f8ee",
   "metadata": {},
   "outputs": [
    {
     "data": {
      "text/plain": [
       "OptMultiResult(best_loss -2.0294768810272217, success_ratio 0.0, num_samples 100)"
      ]
     },
     "execution_count": 480,
     "metadata": {},
     "output_type": "execute_result"
    }
   ],
   "source": [
    "res_heuristic"
   ]
  },
  {
   "cell_type": "raw",
   "id": "c2006927-6bac-4976-9bd5-1f0d33114940",
   "metadata": {},
   "source": [
    "res_heuristic"
   ]
  }
 ],
 "metadata": {
  "kernelspec": {
   "display_name": "slow_waves_python38",
   "language": "python",
   "name": "slow_waves_venv"
  },
  "language_info": {
   "codemirror_mode": {
    "name": "ipython",
    "version": 3
   },
   "file_extension": ".py",
   "mimetype": "text/x-python",
   "name": "python",
   "nbconvert_exporter": "python",
   "pygments_lexer": "ipython3",
   "version": "3.8.10"
  },
  "widgets": {
   "application/vnd.jupyter.widget-state+json": {
    "state": {},
    "version_major": 2,
    "version_minor": 0
   }
  }
 },
 "nbformat": 4,
 "nbformat_minor": 5
}
