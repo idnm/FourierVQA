{
 "cells": [
  {
   "cell_type": "code",
   "execution_count": 2,
   "id": "1a7a0fd1-77b6-4e95-b800-33066c4f0fe4",
   "metadata": {},
   "outputs": [],
   "source": [
    "from duplicate_utils import lift_duplicate_parameters"
   ]
  },
  {
   "cell_type": "code",
   "execution_count": 3,
   "id": "a3a7f568-5921-42e4-b70b-2f31b4c24569",
   "metadata": {},
   "outputs": [
    {
     "ename": "KeyError",
     "evalue": "Parameter(x0)",
     "output_type": "error",
     "traceback": [
      "\u001b[0;31m---------------------------------------------------------------------------\u001b[0m",
      "\u001b[0;31mKeyError\u001b[0m                                  Traceback (most recent call last)",
      "Cell \u001b[0;32mIn [3], line 6\u001b[0m\n\u001b[1;32m      3\u001b[0m num_duplicates \u001b[38;5;241m=\u001b[39m \u001b[38;5;241m1\u001b[39m\n\u001b[1;32m      5\u001b[0m qc \u001b[38;5;241m=\u001b[39m random_clifford_phi(num_qubits, num_parametric_gates, num_duplicates)\n\u001b[0;32m----> 6\u001b[0m qc_lifted, converter \u001b[38;5;241m=\u001b[39m \u001b[43mlift_duplicate_parameters\u001b[49m\u001b[43m(\u001b[49m\u001b[43mqc\u001b[49m\u001b[43m)\u001b[49m\n\u001b[1;32m      8\u001b[0m num_samples \u001b[38;5;241m=\u001b[39m \u001b[38;5;241m10\u001b[39m\n\u001b[1;32m      9\u001b[0m params_batch \u001b[38;5;241m=\u001b[39m np\u001b[38;5;241m.\u001b[39mrandom\u001b[38;5;241m.\u001b[39mrand(num_samples, qc\u001b[38;5;241m.\u001b[39mnum_parameters)\n",
      "File \u001b[0;32m~/Dropbox/hep/Sheets/Quantum Computing/slow_waves_conjecture/duplicate_utils.py:18\u001b[0m, in \u001b[0;36mlift_duplicate_parameters\u001b[0;34m(qc)\u001b[0m\n\u001b[1;32m     15\u001b[0m         gate\u001b[38;5;241m.\u001b[39mparams[\u001b[38;5;241m0\u001b[39m] \u001b[38;5;241m=\u001b[39m new_parameters[num_parameter]\n\u001b[1;32m     16\u001b[0m         num_parameter \u001b[38;5;241m+\u001b[39m\u001b[38;5;241m=\u001b[39m \u001b[38;5;241m1\u001b[39m\n\u001b[0;32m---> 18\u001b[0m parameter_converter \u001b[38;5;241m=\u001b[39m \u001b[43mall_parameters_from_parameters_func\u001b[49m\u001b[43m(\u001b[49m\u001b[43mqc\u001b[49m\u001b[38;5;241;43m.\u001b[39;49m\u001b[43mparameters\u001b[49m\u001b[43m,\u001b[49m\u001b[43m \u001b[49m\u001b[43mqc\u001b[49m\u001b[38;5;241;43m.\u001b[39;49m\u001b[43mall_parameters\u001b[49m\u001b[43m)\u001b[49m\n\u001b[1;32m     20\u001b[0m qc_lifted \u001b[38;5;241m=\u001b[39m QuantumCircuit(qc\u001b[38;5;241m.\u001b[39mnum_parameters)\n\u001b[1;32m     21\u001b[0m qc_lifted\u001b[38;5;241m.\u001b[39mdata \u001b[38;5;241m=\u001b[39m lifted_data\n",
      "File \u001b[0;32m~/Dropbox/hep/Sheets/Quantum Computing/slow_waves_conjecture/jax_utils.py:26\u001b[0m, in \u001b[0;36mall_parameters_from_parameters_func\u001b[0;34m(parameters, all_parameters)\u001b[0m\n\u001b[1;32m     23\u001b[0m \u001b[38;5;28;01mdef\u001b[39;00m \u001b[38;5;21mall_parameters_from_parameters_func\u001b[39m(parameters, all_parameters):\n\u001b[1;32m     24\u001b[0m     \u001b[38;5;124;03m\"\"\"Only works assuming all_parameters are linearly related to parameters.\"\"\"\u001b[39;00m\n\u001b[0;32m---> 26\u001b[0m     basis_vectors \u001b[38;5;241m=\u001b[39m np\u001b[38;5;241m.\u001b[39marray([bind_single(all_parameters, parameters, i) \u001b[38;5;28;01mfor\u001b[39;00m i \u001b[38;5;129;01min\u001b[39;00m \u001b[38;5;28mrange\u001b[39m(\u001b[38;5;28mlen\u001b[39m(parameters))])\n\u001b[1;32m     27\u001b[0m     \u001b[38;5;28;01mreturn\u001b[39;00m \u001b[38;5;28;01mlambda\u001b[39;00m parameter_values: parameter_values \u001b[38;5;241m@\u001b[39m basis_vectors\n",
      "File \u001b[0;32m~/Dropbox/hep/Sheets/Quantum Computing/slow_waves_conjecture/jax_utils.py:26\u001b[0m, in \u001b[0;36m<listcomp>\u001b[0;34m(.0)\u001b[0m\n\u001b[1;32m     23\u001b[0m \u001b[38;5;28;01mdef\u001b[39;00m \u001b[38;5;21mall_parameters_from_parameters_func\u001b[39m(parameters, all_parameters):\n\u001b[1;32m     24\u001b[0m     \u001b[38;5;124;03m\"\"\"Only works assuming all_parameters are linearly related to parameters.\"\"\"\u001b[39;00m\n\u001b[0;32m---> 26\u001b[0m     basis_vectors \u001b[38;5;241m=\u001b[39m np\u001b[38;5;241m.\u001b[39marray([\u001b[43mbind_single\u001b[49m\u001b[43m(\u001b[49m\u001b[43mall_parameters\u001b[49m\u001b[43m,\u001b[49m\u001b[43m \u001b[49m\u001b[43mparameters\u001b[49m\u001b[43m,\u001b[49m\u001b[43m \u001b[49m\u001b[43mi\u001b[49m\u001b[43m)\u001b[49m \u001b[38;5;28;01mfor\u001b[39;00m i \u001b[38;5;129;01min\u001b[39;00m \u001b[38;5;28mrange\u001b[39m(\u001b[38;5;28mlen\u001b[39m(parameters))])\n\u001b[1;32m     27\u001b[0m     \u001b[38;5;28;01mreturn\u001b[39;00m \u001b[38;5;28;01mlambda\u001b[39;00m parameter_values: parameter_values \u001b[38;5;241m@\u001b[39m basis_vectors\n",
      "File \u001b[0;32m~/Dropbox/hep/Sheets/Quantum Computing/slow_waves_conjecture/jax_utils.py:18\u001b[0m, in \u001b[0;36mbind_single\u001b[0;34m(all_parameters, parameters, i)\u001b[0m\n\u001b[1;32m     16\u001b[0m \u001b[38;5;28;01mfor\u001b[39;00m p \u001b[38;5;129;01min\u001b[39;00m all_parameters:\n\u001b[1;32m     17\u001b[0m     parameter \u001b[38;5;241m=\u001b[39m \u001b[38;5;28mlist\u001b[39m(p\u001b[38;5;241m.\u001b[39mparameters)[\u001b[38;5;241m0\u001b[39m]\n\u001b[0;32m---> 18\u001b[0m     value \u001b[38;5;241m=\u001b[39m \u001b[38;5;28mfloat\u001b[39m(p\u001b[38;5;241m.\u001b[39mbind({parameter: \u001b[43mbind_dict\u001b[49m\u001b[43m[\u001b[49m\u001b[43mparameter\u001b[49m\u001b[43m]\u001b[49m}))\n\u001b[1;32m     19\u001b[0m     bound_parameters\u001b[38;5;241m.\u001b[39mappend(value)\n\u001b[1;32m     20\u001b[0m \u001b[38;5;28;01mreturn\u001b[39;00m np\u001b[38;5;241m.\u001b[39marray(bound_parameters)\n",
      "\u001b[0;31mKeyError\u001b[0m: Parameter(x0)"
     ]
    }
   ],
   "source": [
    "num_qubits = 2\n",
    "num_parametric_gates = 3\n",
    "num_duplicates = 1\n",
    "\n",
    "qc = random_clifford_phi(num_qubits, num_parametric_gates, num_duplicates)\n",
    "qc_lifted, converter = lift_duplicate_parameters(qc)\n",
    "\n",
    "num_samples = 10\n",
    "params_batch = np.random.rand(num_samples, qc.num_parameters)\n",
    "# qc_batch = [Operator(qc.bind_parameters(p)) for p in params_batch]\n",
    "# qc_lifted_batch = [Operator(qc_lifted.bind_parameters(converter(p))) for p in params_batch]"
   ]
  },
  {
   "cell_type": "code",
   "execution_count": 11,
   "id": "67cb155b-1732-4985-9cf7-4d0b9f1a8195",
   "metadata": {},
   "outputs": [
    {
     "data": {
      "text/plain": [
       "array([0.86041959, 0.36022471, 0.86041959])"
      ]
     },
     "execution_count": 11,
     "metadata": {},
     "output_type": "execute_result"
    }
   ],
   "source": [
    "converter(params_batch[0])"
   ]
  },
  {
   "cell_type": "code",
   "execution_count": 12,
   "id": "5f19d234-3e7a-4851-ab1e-dfe40f952b5c",
   "metadata": {},
   "outputs": [
    {
     "data": {
      "text/plain": [
       "2"
      ]
     },
     "execution_count": 12,
     "metadata": {},
     "output_type": "execute_result"
    }
   ],
   "source": [
    "qc_lifted.num_parameters"
   ]
  },
  {
   "cell_type": "code",
   "execution_count": 4,
   "id": "d0e03f5a-41b3-4736-acb6-4e9a1abef3e5",
   "metadata": {},
   "outputs": [
    {
     "data": {
      "text/html": [
       "<pre style=\"word-wrap: normal;white-space: pre;background: #fff0;line-height: 1.1;font-family: &quot;Courier New&quot;,Courier,monospace\">     ┌───────────────────────────────────────────────────────────────────────┐»\n",
       "q_0: ┤0                                                                      ├»\n",
       "     │  Clifford: Stabilizer = ['-XZ', '-YX'], Destabilizer = ['-XY', '-XI'] │»\n",
       "q_1: ┤1                                                                      ├»\n",
       "     └───────────────────────────────────────────────────────────────────────┘»\n",
       "«               »\n",
       "«q_0: ─■────────»\n",
       "«      │ZZ(θ_0) »\n",
       "«q_1: ─■────────»\n",
       "«               »\n",
       "«     ┌───────────────────────────────────────────────────────────────────────┐»\n",
       "«q_0: ┤0                                                                      ├»\n",
       "«     │  Clifford: Stabilizer = ['+ZI', '-ZY'], Destabilizer = ['-YZ', '+IZ'] │»\n",
       "«q_1: ┤1                                                                      ├»\n",
       "«     └───────────────────────────────────────────────────────────────────────┘»\n",
       "«                »\n",
       "«q_0: ───────────»\n",
       "«     ┌─────────┐»\n",
       "«q_1: ┤ Ry(θ_1) ├»\n",
       "«     └─────────┘»\n",
       "«     ┌───────────────────────────────────────────────────────────────────────┐»\n",
       "«q_0: ┤0                                                                      ├»\n",
       "«     │  Clifford: Stabilizer = ['-ZZ', '+XY'], Destabilizer = ['-ZX', '-ZI'] │»\n",
       "«q_1: ┤1                                                                      ├»\n",
       "«     └───────────────────────────────────────────────────────────────────────┘»\n",
       "«               \n",
       "«q_0: ─■────────\n",
       "«      │ZZ(θ_0) \n",
       "«q_1: ─■────────\n",
       "«               </pre>"
      ],
      "text/plain": [
       "     ┌───────────────────────────────────────────────────────────────────────┐»\n",
       "q_0: ┤0                                                                      ├»\n",
       "     │  Clifford: Stabilizer = ['-XZ', '-YX'], Destabilizer = ['-XY', '-XI'] │»\n",
       "q_1: ┤1                                                                      ├»\n",
       "     └───────────────────────────────────────────────────────────────────────┘»\n",
       "«               »\n",
       "«q_0: ─■────────»\n",
       "«      │ZZ(θ_0) »\n",
       "«q_1: ─■────────»\n",
       "«               »\n",
       "«     ┌───────────────────────────────────────────────────────────────────────┐»\n",
       "«q_0: ┤0                                                                      ├»\n",
       "«     │  Clifford: Stabilizer = ['+ZI', '-ZY'], Destabilizer = ['-YZ', '+IZ'] │»\n",
       "«q_1: ┤1                                                                      ├»\n",
       "«     └───────────────────────────────────────────────────────────────────────┘»\n",
       "«                »\n",
       "«q_0: ───────────»\n",
       "«     ┌─────────┐»\n",
       "«q_1: ┤ Ry(θ_1) ├»\n",
       "«     └─────────┘»\n",
       "«     ┌───────────────────────────────────────────────────────────────────────┐»\n",
       "«q_0: ┤0                                                                      ├»\n",
       "«     │  Clifford: Stabilizer = ['-ZZ', '+XY'], Destabilizer = ['-ZX', '-ZI'] │»\n",
       "«q_1: ┤1                                                                      ├»\n",
       "«     └───────────────────────────────────────────────────────────────────────┘»\n",
       "«               \n",
       "«q_0: ─■────────\n",
       "«      │ZZ(θ_0) \n",
       "«q_1: ─■────────\n",
       "«               "
      ]
     },
     "execution_count": 4,
     "metadata": {},
     "output_type": "execute_result"
    }
   ],
   "source": [
    "qc.draw()"
   ]
  },
  {
   "cell_type": "code",
   "execution_count": 5,
   "id": "c1dbb995-fb36-48cb-8c44-8f403b76e385",
   "metadata": {},
   "outputs": [
    {
     "data": {
      "text/html": [
       "<pre style=\"word-wrap: normal;white-space: pre;background: #fff0;line-height: 1.1;font-family: &quot;Courier New&quot;,Courier,monospace\">     ┌───────────────────────────────────────────────────────────────────────┐»\n",
       "q_0: ┤0                                                                      ├»\n",
       "     │  Clifford: Stabilizer = ['-XZ', '-YX'], Destabilizer = ['-XY', '-XI'] │»\n",
       "q_1: ┤1                                                                      ├»\n",
       "     └───────────────────────────────────────────────────────────────────────┘»\n",
       "«              »\n",
       "«q_0: ─■───────»\n",
       "«      │ZZ(x0) »\n",
       "«q_1: ─■───────»\n",
       "«              »\n",
       "«     ┌───────────────────────────────────────────────────────────────────────┐»\n",
       "«q_0: ┤0                                                                      ├»\n",
       "«     │  Clifford: Stabilizer = ['+ZI', '-ZY'], Destabilizer = ['-YZ', '+IZ'] │»\n",
       "«q_1: ┤1                                                                      ├»\n",
       "«     └───────────────────────────────────────────────────────────────────────┘»\n",
       "«               »\n",
       "«q_0: ──────────»\n",
       "«     ┌────────┐»\n",
       "«q_1: ┤ Ry(x1) ├»\n",
       "«     └────────┘»\n",
       "«     ┌───────────────────────────────────────────────────────────────────────┐»\n",
       "«q_0: ┤0                                                                      ├»\n",
       "«     │  Clifford: Stabilizer = ['-ZZ', '+XY'], Destabilizer = ['-ZX', '-ZI'] │»\n",
       "«q_1: ┤1                                                                      ├»\n",
       "«     └───────────────────────────────────────────────────────────────────────┘»\n",
       "«              \n",
       "«q_0: ─■───────\n",
       "«      │ZZ(x2) \n",
       "«q_1: ─■───────\n",
       "«              </pre>"
      ],
      "text/plain": [
       "     ┌───────────────────────────────────────────────────────────────────────┐»\n",
       "q_0: ┤0                                                                      ├»\n",
       "     │  Clifford: Stabilizer = ['-XZ', '-YX'], Destabilizer = ['-XY', '-XI'] │»\n",
       "q_1: ┤1                                                                      ├»\n",
       "     └───────────────────────────────────────────────────────────────────────┘»\n",
       "«              »\n",
       "«q_0: ─■───────»\n",
       "«      │ZZ(x0) »\n",
       "«q_1: ─■───────»\n",
       "«              »\n",
       "«     ┌───────────────────────────────────────────────────────────────────────┐»\n",
       "«q_0: ┤0                                                                      ├»\n",
       "«     │  Clifford: Stabilizer = ['+ZI', '-ZY'], Destabilizer = ['-YZ', '+IZ'] │»\n",
       "«q_1: ┤1                                                                      ├»\n",
       "«     └───────────────────────────────────────────────────────────────────────┘»\n",
       "«               »\n",
       "«q_0: ──────────»\n",
       "«     ┌────────┐»\n",
       "«q_1: ┤ Ry(x1) ├»\n",
       "«     └────────┘»\n",
       "«     ┌───────────────────────────────────────────────────────────────────────┐»\n",
       "«q_0: ┤0                                                                      ├»\n",
       "«     │  Clifford: Stabilizer = ['-ZZ', '+XY'], Destabilizer = ['-ZX', '-ZI'] │»\n",
       "«q_1: ┤1                                                                      ├»\n",
       "«     └───────────────────────────────────────────────────────────────────────┘»\n",
       "«              \n",
       "«q_0: ─■───────\n",
       "«      │ZZ(x2) \n",
       "«q_1: ─■───────\n",
       "«              "
      ]
     },
     "execution_count": 5,
     "metadata": {},
     "output_type": "execute_result"
    }
   ],
   "source": [
    "qc_lifted.draw()"
   ]
  },
  {
   "cell_type": "code",
   "execution_count": 3,
   "id": "71623634-7023-48fc-b395-df0031457b4c",
   "metadata": {},
   "outputs": [
    {
     "data": {
      "text/html": [
       "<pre style=\"word-wrap: normal;white-space: pre;background: #fff0;line-height: 1.1;font-family: &quot;Courier New&quot;,Courier,monospace\">     ┌───────┐     ┌───────┐\n",
       "q_0: ┤ Rx(x) ├──■──┤ Rz(z) ├\n",
       "     ├───────┤┌─┴─┐├───────┤\n",
       "q_1: ┤ Rx(x) ├┤ X ├┤ Rz(z) ├\n",
       "     └───────┘└───┘└───────┘</pre>"
      ],
      "text/plain": [
       "     ┌───────┐     ┌───────┐\n",
       "q_0: ┤ Rx(x) ├──■──┤ Rz(z) ├\n",
       "     ├───────┤┌─┴─┐├───────┤\n",
       "q_1: ┤ Rx(x) ├┤ X ├┤ Rz(z) ├\n",
       "     └───────┘└───┘└───────┘"
      ]
     },
     "execution_count": 3,
     "metadata": {},
     "output_type": "execute_result"
    }
   ],
   "source": [
    "qc = CliffordPhi(2)\n",
    "parameters = [Parameter('x'), Parameter('z')]\n",
    "qc.rx(parameters[0], 0)\n",
    "qc.rx(parameters[0], 1)\n",
    "qc.cx(0, 1)\n",
    "qc.rz(parameters[1], 0)\n",
    "qc.rz(parameters[1], 1)\n",
    "\n",
    "qc.draw()"
   ]
  },
  {
   "cell_type": "code",
   "execution_count": 4,
   "id": "32094f93-934a-45c8-bcbc-6956acfe3481",
   "metadata": {},
   "outputs": [],
   "source": [
    "qc_lifted, converter = lift_duplicate_parameters(qc)"
   ]
  },
  {
   "cell_type": "code",
   "execution_count": 5,
   "id": "ad092771-8283-44c5-ad6f-26a87b3b62ba",
   "metadata": {},
   "outputs": [
    {
     "data": {
      "text/html": [
       "<pre style=\"word-wrap: normal;white-space: pre;background: #fff0;line-height: 1.1;font-family: &quot;Courier New&quot;,Courier,monospace\">     ┌────────┐     ┌────────┐\n",
       "q_0: ┤ Rx(x0) ├──■──┤ Rz(x2) ├\n",
       "     ├────────┤┌─┴─┐├────────┤\n",
       "q_1: ┤ Rx(x1) ├┤ X ├┤ Rz(x3) ├\n",
       "     └────────┘└───┘└────────┘</pre>"
      ],
      "text/plain": [
       "     ┌────────┐     ┌────────┐\n",
       "q_0: ┤ Rx(x0) ├──■──┤ Rz(x2) ├\n",
       "     ├────────┤┌─┴─┐├────────┤\n",
       "q_1: ┤ Rx(x1) ├┤ X ├┤ Rz(x3) ├\n",
       "     └────────┘└───┘└────────┘"
      ]
     },
     "execution_count": 5,
     "metadata": {},
     "output_type": "execute_result"
    }
   ],
   "source": [
    "qc_lifted.draw()"
   ]
  },
  {
   "cell_type": "code",
   "execution_count": 6,
   "id": "cd3854fd-6db9-48f5-88ee-b446a901e447",
   "metadata": {},
   "outputs": [
    {
     "data": {
      "text/plain": [
       "array([0., 0., 1., 1.])"
      ]
     },
     "execution_count": 6,
     "metadata": {},
     "output_type": "execute_result"
    }
   ],
   "source": [
    "converter([0, 1])"
   ]
  },
  {
   "cell_type": "code",
   "execution_count": 5,
   "id": "e5b9202a-46b1-4f11-ad6c-fdf4c81c174d",
   "metadata": {},
   "outputs": [
    {
     "data": {
      "text/plain": [
       "[Parameter(x), Parameter(x), Parameter(z), Parameter(z)]"
      ]
     },
     "execution_count": 5,
     "metadata": {},
     "output_type": "execute_result"
    }
   ],
   "source": [
    "qc.all_parameters"
   ]
  },
  {
   "cell_type": "code",
   "execution_count": 6,
   "id": "c79d2fc5-4b20-47e2-82e5-4bdb8f3ebb60",
   "metadata": {},
   "outputs": [
    {
     "data": {
      "text/plain": [
       "ParameterView([Parameter(x), Parameter(z)])"
      ]
     },
     "execution_count": 6,
     "metadata": {},
     "output_type": "execute_result"
    }
   ],
   "source": [
    "qc.parameters"
   ]
  },
  {
   "cell_type": "code",
   "execution_count": 7,
   "id": "7cd7e9b2-0681-49d8-af3b-61de1663153d",
   "metadata": {},
   "outputs": [],
   "source": [
    "from jax_utils import all_parameters_from_parameters_func"
   ]
  },
  {
   "cell_type": "code",
   "execution_count": 9,
   "id": "5ca010cb-3a51-44b4-8277-ef7fa4515667",
   "metadata": {},
   "outputs": [
    {
     "data": {
      "text/plain": [
       "array([1.1, 1.1, 1. , 1. ])"
      ]
     },
     "execution_count": 9,
     "metadata": {},
     "output_type": "execute_result"
    }
   ],
   "source": [
    "all_parameters_from_parameters_func(qc.parameters, qc.all_parameters)([1.1, 1])"
   ]
  },
  {
   "cell_type": "code",
   "execution_count": 8,
   "id": "e7f161e7-b345-4148-8fd6-36d2158e5e67",
   "metadata": {},
   "outputs": [],
   "source": [
    "params = list(qc.parameters)"
   ]
  },
  {
   "cell_type": "code",
   "execution_count": 7,
   "id": "1c30ac28-9a12-45dd-b3ef-6e37ec1ba377",
   "metadata": {},
   "outputs": [
    {
     "data": {
      "text/plain": [
       "False"
      ]
     },
     "execution_count": 7,
     "metadata": {},
     "output_type": "execute_result"
    }
   ],
   "source": [
    "Parameter('x')==Parameter('x')"
   ]
  },
  {
   "cell_type": "code",
   "execution_count": 6,
   "id": "a0f8b63e-22a1-45f2-9767-f9b6e10e1c95",
   "metadata": {},
   "outputs": [
    {
     "ename": "ValueError",
     "evalue": "Parameter(x) is not in list",
     "output_type": "error",
     "traceback": [
      "\u001b[0;31m---------------------------------------------------------------------------\u001b[0m",
      "\u001b[0;31mValueError\u001b[0m                                Traceback (most recent call last)",
      "Cell \u001b[0;32mIn [6], line 1\u001b[0m\n\u001b[0;32m----> 1\u001b[0m \u001b[38;5;28;43mlist\u001b[39;49m\u001b[43m(\u001b[49m\u001b[43mqc\u001b[49m\u001b[38;5;241;43m.\u001b[39;49m\u001b[43mparameters\u001b[49m\u001b[43m)\u001b[49m\u001b[38;5;241;43m.\u001b[39;49m\u001b[43mindex\u001b[49m\u001b[43m(\u001b[49m\u001b[43mParameter\u001b[49m\u001b[43m(\u001b[49m\u001b[38;5;124;43m'\u001b[39;49m\u001b[38;5;124;43mx\u001b[39;49m\u001b[38;5;124;43m'\u001b[39;49m\u001b[43m)\u001b[49m\u001b[43m)\u001b[49m\n",
      "\u001b[0;31mValueError\u001b[0m: Parameter(x) is not in list"
     ]
    }
   ],
   "source": [
    "list(qc.parameters).index(Parameter('x'))"
   ]
  },
  {
   "cell_type": "code",
   "execution_count": 3,
   "id": "28917bf3-6dbb-476b-83d9-5f3a1e71b8b5",
   "metadata": {},
   "outputs": [],
   "source": [
    "cl = CliffordPhi.from_quantum_circuit(qc)"
   ]
  },
  {
   "cell_type": "code",
   "execution_count": 4,
   "id": "bbea85bc-71cf-4597-9f0c-793cd52d076c",
   "metadata": {},
   "outputs": [
    {
     "data": {
      "text/html": [
       "<pre style=\"word-wrap: normal;white-space: pre;background: #fff0;line-height: 1.1;font-family: &quot;Courier New&quot;,Courier,monospace\">     ┌───────┐     ┌───────┐\n",
       "q_0: ┤ Rx(x) ├──■──┤ Rz(z) ├\n",
       "     ├───────┤┌─┴─┐├───────┤\n",
       "q_1: ┤ Rx(x) ├┤ X ├┤ Rz(z) ├\n",
       "     └───────┘└───┘└───────┘</pre>"
      ],
      "text/plain": [
       "     ┌───────┐     ┌───────┐\n",
       "q_0: ┤ Rx(x) ├──■──┤ Rz(z) ├\n",
       "     ├───────┤┌─┴─┐├───────┤\n",
       "q_1: ┤ Rx(x) ├┤ X ├┤ Rz(z) ├\n",
       "     └───────┘└───┘└───────┘"
      ]
     },
     "execution_count": 4,
     "metadata": {},
     "output_type": "execute_result"
    }
   ],
   "source": [
    "cl.draw()"
   ]
  },
  {
   "cell_type": "code",
   "execution_count": 7,
   "id": "d67c3b22-7606-4cbe-9bdd-c36c98d31b5f",
   "metadata": {},
   "outputs": [
    {
     "data": {
      "text/plain": [
       "[0, 2]"
      ]
     },
     "execution_count": 7,
     "metadata": {},
     "output_type": "execute_result"
    }
   ],
   "source": [
    "cl.num_instruction_from_num_parameter"
   ]
  },
  {
   "cell_type": "code",
   "execution_count": 5,
   "id": "d3635588-f96e-4b73-8486-522be0c10c9f",
   "metadata": {},
   "outputs": [
    {
     "data": {
      "text/plain": [
       "[[<wave_expansion.PauliRotation at 0x7f15a6f2a910>, [0]],\n",
       " [<wave_expansion.PauliRotation at 0x7f15a6f2a130>, [1]],\n",
       " [Clifford(array([[ True,  True, False, False, False],\n",
       "         [False,  True, False, False, False],\n",
       "         [False, False,  True, False, False],\n",
       "         [False, False,  True,  True, False]])),\n",
       "  [0, 1]],\n",
       " [<wave_expansion.PauliRotation at 0x7f15a8eaea60>, [0]],\n",
       " [<wave_expansion.PauliRotation at 0x7f15a8eae3d0>, [1]]]"
      ]
     },
     "execution_count": 5,
     "metadata": {},
     "output_type": "execute_result"
    }
   ],
   "source": [
    "cl.clifford_pauli_data"
   ]
  }
 ],
 "metadata": {
  "kernelspec": {
   "display_name": "slow_waves_python38",
   "language": "python",
   "name": "slow_waves_venv"
  },
  "language_info": {
   "codemirror_mode": {
    "name": "ipython",
    "version": 3
   },
   "file_extension": ".py",
   "mimetype": "text/x-python",
   "name": "python",
   "nbconvert_exporter": "python",
   "pygments_lexer": "ipython3",
   "version": "3.8.10"
  },
  "widgets": {
   "application/vnd.jupyter.widget-state+json": {
    "state": {},
    "version_major": 2,
    "version_minor": 0
   }
  }
 },
 "nbformat": 4,
 "nbformat_minor": 5
}
